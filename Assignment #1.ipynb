{
 "cells": [
  {
   "cell_type": "markdown",
   "metadata": {},
   "source": [
    "A Caesar cipher is a simple substitution cipher based on the idea of shifting each letter of the plaintext message a fixed number (called the key) of positions in the alphabet. For example, if the key value is 2, the word “Sourpuss” would be encoded as “Uqwtrwuu.” The original message can be recovered by “reencoding” it using the negative of the key. A Caesar cipher does the shifting in a circular fashion where the next character after “z” is “a”.\n",
    "\n",
    "Write a program that can encode and decode Caesar ciphers. The input to the program will be a string of plaintext and the value of the key. The output will be an encoded message where each character in the original message is replaced by shifting it key characters in the Unicode character set. For example, if ch is a character in the string and key is the amount to shift, then the character that replaces ch can be calculated as: chr(ord(ch) + key). You may assume that the input consists only of letters and spaces."
   ]
  },
  {
   "cell_type": "markdown",
   "metadata": {},
   "source": [
    "## Planning"
   ]
  },
  {
   "cell_type": "markdown",
   "metadata": {},
   "source": [
    "* Two inputs: string of plaintext, value of the key\n",
    "* Inputs would include A-Z, a-z, space\n",
    "* The function chr(ord(ch) + key):\n",
    "    * ord(ch) - takes ch and returns the Unicode code point\n",
    "    * ord(ch) + key - takes the Unicode code point and adds the key\n",
    "    * chr(ord(ch) + key) - takes the new Unicode code point and returns the corresponding character\n",
    "* Encode program should take the string, split into a list by using list(), then for each item in the list, use the function above, then create function to print with end=''\n",
    "* Assumption: Includes punctuation"
   ]
  },
  {
   "cell_type": "code",
   "execution_count": 1,
   "metadata": {
    "collapsed": true
   },
   "outputs": [],
   "source": [
    "characters = \"0123456789ABCDEFGHIJKLMNOPQRSTUVWXYZabcdefghijklmnopqrstuvwxyz \""
   ]
  },
  {
   "cell_type": "code",
   "execution_count": 11,
   "metadata": {
    "collapsed": false
   },
   "outputs": [
    {
     "name": "stdout",
     "output_type": "stream",
     "text": [
      "Please enter a message to be encoded: HELLO HELLO HELLO\n",
      "Please enter the key value: 8\n",
      "PMTTW7PMTTW7PMTTW"
     ]
    }
   ],
   "source": [
    "#Encode program\n",
    "#Two input fields for message and key value\n",
    "encodestr = input(\"Please enter a message to be encoded: \")\n",
    "key = input(\"Please enter the key value: \")\n",
    "list_message = list(encodestr) #Creates list of characters in message using list function\n",
    "new_message = [] #Creates empty list for the encoded message\n",
    "#for loop takes each character in the message, finds its index, adds the key value and subtracts 63, the length of the characters set, for the circular shifting, and adds the character corresponding to that index value to the new message\n",
    "for char in list_message:\n",
    "    code = characters.index(char) + int(key) - 63\n",
    "    new_message.append(characters[code])\n",
    "#for loop prints each character in the new message, with no separator between them\n",
    "for char in new_message:\n",
    "    print(char, end=\"\")"
   ]
  },
  {
   "cell_type": "code",
   "execution_count": 12,
   "metadata": {
    "collapsed": false
   },
   "outputs": [
    {
     "name": "stdout",
     "output_type": "stream",
     "text": [
      "Please enter a message to be decoded: PMTTW7PMTTW7PMTTW\n",
      "Please enter the key value: 8\n",
      "HELLO HELLO HELLO"
     ]
    }
   ],
   "source": [
    "#Decode program\n",
    "#Two input fields for message and key value\n",
    "decodestr = input(\"Please enter a message to be decoded: \")\n",
    "key = input(\"Please enter the key value: \")\n",
    "list_message = list(decodestr) #Creates list of characters in message using list function\n",
    "new_message = [] #Creates empty list for the decoded message\n",
    "#for loop takes each character in the message, finds its index, and subtracts the key value, then adds the new character corresponding to that index value to the new message list \n",
    "for char in list_message:\n",
    "    code = characters.index(char) - int(key)\n",
    "    new_message.append(characters[code])\n",
    "#for loop prints each character in the new message, with no separator between them\n",
    "for char in new_message:\n",
    "    print(char, end=\"\")"
   ]
  },
  {
   "cell_type": "code",
   "execution_count": 14,
   "metadata": {
    "collapsed": false
   },
   "outputs": [
    {
     "name": "stdout",
     "output_type": "stream",
     "text": [
      "Please enter a message to be encoded: I live in Boston\n",
      "Please enter the key value: 1\n",
      "J0mjwf0jo0Cptupo"
     ]
    }
   ],
   "source": [
    "#Encode program\n",
    "#Two input fields for message and key value\n",
    "encodestr = input(\"Please enter a message to be encoded: \")\n",
    "key = input(\"Please enter the key value: \")\n",
    "list_message = list(encodestr) #Creates list of characters in message using list function\n",
    "new_message = [] #Creates empty list for the encoded message\n",
    "#for loop takes each character in the message, finds its index, adds the key value and subtracts 63, the length of the characters set, for the circular shifting, and adds the character corresponding to that index value to the new message\n",
    "for char in list_message:\n",
    "    code = characters.index(char) + int(key) - 63\n",
    "    new_message.append(characters[code])\n",
    "#for loop prints each character in the new message, with no separator between them\n",
    "for char in new_message:\n",
    "    print(char, end=\"\")"
   ]
  },
  {
   "cell_type": "code",
   "execution_count": 15,
   "metadata": {
    "collapsed": false
   },
   "outputs": [
    {
     "name": "stdout",
     "output_type": "stream",
     "text": [
      "Please enter a message to be decoded: J0mjwf0jo0Cptupo\n",
      "Please enter the key value: 1\n",
      "I live in Boston"
     ]
    }
   ],
   "source": [
    "#Decode program\n",
    "#Two input fields for message and key value\n",
    "decodestr = input(\"Please enter a message to be decoded: \")\n",
    "key = input(\"Please enter the key value: \")\n",
    "list_message = list(decodestr) #Creates list of characters in message using list function\n",
    "new_message = [] #Creates empty list for the decoded message\n",
    "#for loop takes each character in the message, finds its index, and subtracts the key value, then adds the new character corresponding to that index value to the new message list \n",
    "for char in list_message:\n",
    "    code = characters.index(char) - int(key)\n",
    "    new_message.append(characters[code])\n",
    "#for loop prints each character in the new message, with no separator between them\n",
    "for char in new_message:\n",
    "    print(char, end=\"\")"
   ]
  },
  {
   "cell_type": "code",
   "execution_count": 16,
   "metadata": {
    "collapsed": false
   },
   "outputs": [
    {
     "name": "stdout",
     "output_type": "stream",
     "text": [
      "Please enter a message to be encoded: I am reading a book called The Last Bookaneer\n",
      "Please enter the key value: -4\n",
      "EwWiwnaWZejcwWwXkkgwYWhhaZwPdawHWopw7kkgWjaan"
     ]
    }
   ],
   "source": [
    "#Encode program\n",
    "#Two input fields for message and key value\n",
    "encodestr = input(\"Please enter a message to be encoded: \")\n",
    "key = input(\"Please enter the key value: \")\n",
    "list_message = list(encodestr) #Creates list of characters in message using list function\n",
    "new_message = [] #Creates empty list for the encoded message\n",
    "#for loop takes each character in the message, finds its index, adds the key value and subtracts 63, the length of the characters set, for the circular shifting, and adds the character corresponding to that index value to the new message\n",
    "for char in list_message:\n",
    "    code = characters.index(char) + int(key) - 63\n",
    "    new_message.append(characters[code])\n",
    "#for loop prints each character in the new message, with no separator between them\n",
    "for char in new_message:\n",
    "    print(char, end=\"\")"
   ]
  },
  {
   "cell_type": "code",
   "execution_count": 17,
   "metadata": {
    "collapsed": false
   },
   "outputs": [
    {
     "name": "stdout",
     "output_type": "stream",
     "text": [
      "Please enter a message to be decoded: EwWiwnaWZejcwWwXkkgwYWhhaZwPdawHWopw7kkgWjaan\n",
      "Please enter the key value: -4\n",
      "I am reading a book called The Last Bookaneer"
     ]
    }
   ],
   "source": [
    "#Decode program\n",
    "#Two input fields for message and key value\n",
    "decodestr = input(\"Please enter a message to be decoded: \")\n",
    "key = input(\"Please enter the key value: \")\n",
    "list_message = list(decodestr) #Creates list of characters in message using list function\n",
    "new_message = [] #Creates empty list for the decoded message\n",
    "#for loop takes each character in the message, finds its index, and subtracts the key value, then adds the new character corresponding to that index value to the new message list \n",
    "for char in list_message:\n",
    "    code = characters.index(char) - int(key)\n",
    "    new_message.append(characters[code])\n",
    "#for loop prints each character in the new message, with no separator between them\n",
    "for char in new_message:\n",
    "    print(char, end=\"\")"
   ]
  },
  {
   "cell_type": "code",
   "execution_count": null,
   "metadata": {
    "collapsed": true
   },
   "outputs": [],
   "source": []
  }
 ],
 "metadata": {
  "anaconda-cloud": {},
  "kernelspec": {
   "display_name": "Python [Root]",
   "language": "python",
   "name": "Python [Root]"
  },
  "language_info": {
   "codemirror_mode": {
    "name": "ipython",
    "version": 3
   },
   "file_extension": ".py",
   "mimetype": "text/x-python",
   "name": "python",
   "nbconvert_exporter": "python",
   "pygments_lexer": "ipython3",
   "version": "3.5.2"
  }
 },
 "nbformat": 4,
 "nbformat_minor": 0
}
