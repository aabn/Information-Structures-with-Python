{
 "cells": [
  {
   "cell_type": "markdown",
   "metadata": {},
   "source": [
    "Class methods are defined with the @classmethod decorator.\n",
    "\n",
    "Functions are bound to the class and not to an instance. They are callable on both the instance and the class.\n",
    "\n",
    "Information about classes: https://docs.python.org/3/tutorial/classes.html"
   ]
  },
  {
   "cell_type": "markdown",
   "metadata": {},
   "source": [
    "**Inheritance**\n",
    "\n",
    "Types can be specialized, instances cannot.\n",
    "\n",
    "If object B is a specialization of object A, B has all of the features of A, B can provide more features, and B can perform some or all of the tasks performed by A in a different way.\n",
    "\n",
    "Inheritance allows classes to inherit state and behavior from other classes. Base/super/parent class - sub/derived/child class.\n",
    "\n",
    "class DerivedClassName(BaseClass): [statements]"
   ]
  },
  {
   "cell_type": "code",
   "execution_count": 1,
   "metadata": {
    "collapsed": false
   },
   "outputs": [
    {
     "ename": "NameError",
     "evalue": "name 'SecretDie' is not defined",
     "output_type": "error",
     "traceback": [
      "\u001b[0;31m---------------------------------------------------------------------------\u001b[0m",
      "\u001b[0;31mNameError\u001b[0m                                 Traceback (most recent call last)",
      "\u001b[0;32m<ipython-input-1-8bdf4a1c459b>\u001b[0m in \u001b[0;36m<module>\u001b[0;34m()\u001b[0m\n\u001b[0;32m----> 1\u001b[0;31m \u001b[0mSecretDie\u001b[0m\u001b[0;34m.\u001b[0m\u001b[0m__base__\u001b[0m \u001b[0;31m#use this base attribute to find the parent\u001b[0m\u001b[0;34m\u001b[0m\u001b[0m\n\u001b[0m\u001b[1;32m      2\u001b[0m \u001b[0m__main__\u001b[0m\u001b[0;34m.\u001b[0m\u001b[0mMSDie\u001b[0m\u001b[0;34m\u001b[0m\u001b[0m\n",
      "\u001b[0;31mNameError\u001b[0m: name 'SecretDie' is not defined"
     ]
    }
   ],
   "source": [
    "SecretDie.__base__ #use this base attribute to find the parent\n",
    "__main__.MSDie"
   ]
  },
  {
   "cell_type": "markdown",
   "metadata": {},
   "source": [
    "**Override**\n",
    "\n",
    "Override a base class member in a derived class\n",
    "\n",
    "**Multiple Inheritance**\n",
    "\n",
    "A class definition may have multiple base classes.\n",
    "\n",
    "class DerivedClassName(Base1, Base2, Base3): [statements]\n",
    "\n",
    "Search for attributes inherited from a parent class: depth-first, left-to-right, not searching twice in the same class where there is an overlap in the hierarchy.\n",
    "\n",
    "**Delegation**\n",
    "\n",
    "Maximize the reuse of already existing components.\n",
    "\n",
    "If B is a subclass of A, B delegates methods to A. In this case, you can invoke a method by calling obj.method.\n",
    "\n",
    "If B and A are separate classes, you can invoke a method by calling ob.a.method().\n",
    "\n",
    "In both cases, the method implemented in A has been called."
   ]
  },
  {
   "cell_type": "code",
   "execution_count": null,
   "metadata": {
    "collapsed": true
   },
   "outputs": [],
   "source": []
  }
 ],
 "metadata": {
  "anaconda-cloud": {},
  "kernelspec": {
   "display_name": "Python [Root]",
   "language": "python",
   "name": "Python [Root]"
  },
  "language_info": {
   "codemirror_mode": {
    "name": "ipython",
    "version": 3
   },
   "file_extension": ".py",
   "mimetype": "text/x-python",
   "name": "python",
   "nbconvert_exporter": "python",
   "pygments_lexer": "ipython3",
   "version": "3.5.2"
  }
 },
 "nbformat": 4,
 "nbformat_minor": 0
}
